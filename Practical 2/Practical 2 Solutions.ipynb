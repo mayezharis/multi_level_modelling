{
 "cells": [
  {
   "cell_type": "markdown",
   "metadata": {},
   "source": [
    "# Guided Practical 2 - Random Intercept Models"
   ]
  },
  {
   "cell_type": "markdown",
   "metadata": {},
   "source": [
    "This session we will show you: \n",
    "\n",
    "       1) the syntax of multilevel models in R. \n",
    "       2) how to establish if, and to what extent, variation occurs at different levels of clustering within a dataset\n",
    "       3) how to compare the fit of different models\n",
    "       4) how to extract, and plot, random effects\n",
    "       5) how to add  explanatory variables to the model. \n",
    "\n"
   ]
  },
  {
   "cell_type": "markdown",
   "metadata": {},
   "source": [
    "### Introduction ###"
   ]
  },
  {
   "cell_type": "markdown",
   "metadata": {},
   "source": [
    "We work with the hedonism data from the ESS. \n",
    "\n",
    "The data have a two-level hierarchical structure with individual respondents at level 1 and countries at level 2.  \n",
    "\n",
    "We will treat country as a random classification (or grouping variable).  The target of inference could be a wider population of countries from which those in the study can be considered a random sample.  \n",
    "\n",
    "It is not clear which countries such a population would contain.  In this case, it is more natural to think of the sample data as if they were a set of realisations from some underlying process that could extend through time and possibly space.  This process has driven the observations, but the statistics we compute from the observed data refer to a particular point in time and are subject to random fluctuations. We are interested in the underlying process that has generated the data we observe, and use the ‘sample’ data to make inferences about this process. \n",
    "\n",
    "Whatever our view about the data generation process, it seems reasonable to argue that the responses provided by indivduals who reside in a particular country will not be independnet observations; breaking the assumption of independence of case which under traditional regression methods.  These data are therefore a classic example of the type of data analysed using multilevel models."
   ]
  },
  {
   "cell_type": "markdown",
   "metadata": {},
   "source": [
    "### Load Required Packages ####"
   ]
  },
  {
   "cell_type": "markdown",
   "metadata": {},
   "source": [
    "Two main packages are needed for the analysis in this tutorial.\n",
    "\n",
    "\"foreign\" is used to import datasets, created in different statistical software, into R.  This package was also used in Tutorial 1.\n",
    "\n",
    "\"lme4\" is the main package used to run multilevel models in R.  The basic syntax for this package is introuced below.  Later tutorials will build on the syntax introduced in this session to run models for different types of dependent variable.\n",
    "\n",
    "\"lattice\" is one of the key packages for drawing graphs in R.  As demonstrated below, the command \"dotplot\" provides a simple way through which to plot random effects"
   ]
  },
  {
   "cell_type": "code",
   "execution_count": 4,
   "metadata": {
    "scrolled": true
   },
   "outputs": [
    {
     "name": "stderr",
     "output_type": "stream",
     "text": [
      "Loading required package: Matrix\n",
      "\n",
      "Warning message:\n",
      "“package ‘Matrix’ was built under R version 4.2.3”\n",
      "Warning message:\n",
      "“package ‘lattice’ was built under R version 4.2.3”\n"
     ]
    }
   ],
   "source": [
    "library (foreign)\n",
    "library (lme4)\n",
    "library (lattice)"
   ]
  },
  {
   "cell_type": "markdown",
   "metadata": {},
   "source": [
    "### The Dataset ###"
   ]
  },
  {
   "cell_type": "markdown",
   "metadata": {},
   "source": [
    "We will analyse data from all 20 countries in the study.  The following countries were included in the study: Austria, Belgium, the Czech Republic, Denmark, Finland, France, Germany, Greece, Hungary, Ireland, Israel, Netherlands, Norway, Poland, Portugal, Slovenia, Spain, Sweden, Switzerland, and the United Kingdom. The combined sample size for these countries is 36,537. \n",
    "\n",
    "The dataset contains the following variables:\n",
    "\n",
    "    1) age -    Respondent's age in years \n",
    "    2) female - 0 if respondent male, 1 if respondent female \n",
    "    3) eduyrs - Number of years of education of respondent \n",
    "    4) income - Respondent's monthly household income in bands (less than €150, €150-300, €300-500, €500-1000, €1000-1500,\n",
    "    €1500-2000, €2000-2500, €2500-3000, €3000-5000, €5000-7500, €7500-10000, more than €10000). "
   ]
  },
  {
   "cell_type": "markdown",
   "metadata": {},
   "source": [
    "The data are stored in the file \"hedon_intercept.dta\" (which is a Stata datafile).  They can be imported into R using the \"foreign\" library.  The sytax below imports the dataset and stores it in a dataframe called \"hedon\""
   ]
  },
  {
   "cell_type": "code",
   "execution_count": 5,
   "metadata": {
    "scrolled": true
   },
   "outputs": [
    {
     "name": "stdout",
     "output_type": "stream",
     "text": [
      "'data.frame':\t36527 obs. of  7 variables:\n",
      " $ country: Factor w/ 20 levels \"Austria\",\"Belgium\",..: 1 1 1 1 1 1 1 1 1 1 ...\n",
      " $ indiv  : int  1 2 3 4 5 6 7 8 9 10 ...\n",
      " $ hed    : num  1.143 0.762 -0.976 -1.667 1.143 ...\n",
      " $ eduyrs : int  11 14 9 18 15 11 10 17 16 8 ...\n",
      " $ female : int  0 0 1 0 1 1 1 1 0 1 ...\n",
      " $ income : int  NA 2 NA 9 9 5 NA 9 8 NA ...\n",
      " $ age    : int  53 49 62 43 40 62 74 40 46 51 ...\n",
      " - attr(*, \"datalabel\")= chr \"\"\n",
      " - attr(*, \"time.stamp\")= chr \"13 Nov 2019 15:57\"\n",
      " - attr(*, \"formats\")= chr [1:7] \"%8.0g\" \"%12.0g\" \"%9.0g\" \"%8.0g\" ...\n",
      " - attr(*, \"types\")= int [1:7] 251 253 254 251 251 251 251\n",
      " - attr(*, \"val.labels\")= chr [1:7] \"country\" \"\" \"\" \"\" ...\n",
      " - attr(*, \"var.labels\")= chr [1:7] \"\" \"\" \"\" \"\" ...\n",
      " - attr(*, \"version\")= int 12\n",
      " - attr(*, \"label.table\")=List of 1\n",
      "  ..$ country: Named int [1:20] 1 2 3 4 5 6 7 8 9 10 ...\n",
      "  .. ..- attr(*, \"names\")= chr [1:20] \"Austria\" \"Belgium\" \"Switzerland\" \"Czech\" ...\n"
     ]
    }
   ],
   "source": [
    "hedon <- read.dta(\"hedon_intercept.dta\")\n",
    "\n",
    "str(hedon)"
   ]
  },
  {
   "cell_type": "markdown",
   "metadata": {},
   "source": [
    "As in Tutorial 1, we can use the \"ls()\" command to check which objects in the environment.  In this case, checking that \"hedon\" now exists."
   ]
  },
  {
   "cell_type": "code",
   "execution_count": 6,
   "metadata": {
    "scrolled": true
   },
   "outputs": [
    {
     "data": {
      "text/html": [
       "'hedon'"
      ],
      "text/latex": [
       "'hedon'"
      ],
      "text/markdown": [
       "'hedon'"
      ],
      "text/plain": [
       "[1] \"hedon\""
      ]
     },
     "metadata": {},
     "output_type": "display_data"
    }
   ],
   "source": [
    "ls()"
   ]
  },
  {
   "cell_type": "markdown",
   "metadata": {},
   "source": [
    "As always, before undertaking any statstical modelling, it is important to get a sense of your data and the type of variables you have to play with.\n",
    "\n",
    "The \"str()\" command provides any overview of an object.  In the case of a dataframe, this includes the number of cases, the names of variables and the type of data they store.\n",
    "\n",
    "The command \"summary (hedon)\" provides descriptive statistics for each variable in the dataframe, while the command \"head (hedon)\" displays the first few rows of data stored in the dataframe."
   ]
  },
  {
   "cell_type": "code",
   "execution_count": 7,
   "metadata": {
    "scrolled": true
   },
   "outputs": [
    {
     "name": "stdout",
     "output_type": "stream",
     "text": [
      "'data.frame':\t36527 obs. of  7 variables:\n",
      " $ country: Factor w/ 20 levels \"Austria\",\"Belgium\",..: 1 1 1 1 1 1 1 1 1 1 ...\n",
      " $ indiv  : int  1 2 3 4 5 6 7 8 9 10 ...\n",
      " $ hed    : num  1.143 0.762 -0.976 -1.667 1.143 ...\n",
      " $ eduyrs : int  11 14 9 18 15 11 10 17 16 8 ...\n",
      " $ female : int  0 0 1 0 1 1 1 1 0 1 ...\n",
      " $ income : int  NA 2 NA 9 9 5 NA 9 8 NA ...\n",
      " $ age    : int  53 49 62 43 40 62 74 40 46 51 ...\n",
      " - attr(*, \"datalabel\")= chr \"\"\n",
      " - attr(*, \"time.stamp\")= chr \"13 Nov 2019 15:57\"\n",
      " - attr(*, \"formats\")= chr [1:7] \"%8.0g\" \"%12.0g\" \"%9.0g\" \"%8.0g\" ...\n",
      " - attr(*, \"types\")= int [1:7] 251 253 254 251 251 251 251\n",
      " - attr(*, \"val.labels\")= chr [1:7] \"country\" \"\" \"\" \"\" ...\n",
      " - attr(*, \"var.labels\")= chr [1:7] \"\" \"\" \"\" \"\" ...\n",
      " - attr(*, \"version\")= int 12\n",
      " - attr(*, \"label.table\")=List of 1\n",
      "  ..$ country: Named int [1:20] 1 2 3 4 5 6 7 8 9 10 ...\n",
      "  .. ..- attr(*, \"names\")= chr [1:20] \"Austria\" \"Belgium\" \"Switzerland\" \"Czech\" ...\n"
     ]
    }
   ],
   "source": [
    "str(hedon)"
   ]
  },
  {
   "cell_type": "code",
   "execution_count": 8,
   "metadata": {
    "scrolled": true
   },
   "outputs": [
    {
     "data": {
      "text/plain": [
       "        country          indiv            hed              eduyrs     \n",
       " Germany    : 2785   Min.   :    1   Min.   :-4.1580   Min.   : 0.00  \n",
       " Greece     : 2453   1st Qu.: 9132   1st Qu.:-0.8330   1st Qu.: 9.00  \n",
       " Netherlands: 2301   Median :18264   Median :-0.1190   Median :12.00  \n",
       " Austria    : 2203   Mean   :18264   Mean   :-0.2036   Mean   :11.92  \n",
       " Israel     : 2167   3rd Qu.:27396   3rd Qu.: 0.5000   3rd Qu.:14.00  \n",
       " Switzerland: 2005   Max.   :36527   Max.   : 3.2500   Max.   :40.00  \n",
       " (Other)    :22613                                     NA's   :445    \n",
       "     female           income            age       \n",
       " Min.   :0.0000   Min.   : 1.000   Min.   :14.00  \n",
       " 1st Qu.:0.0000   1st Qu.: 4.000   1st Qu.:32.00  \n",
       " Median :1.0000   Median : 6.000   Median :45.00  \n",
       " Mean   :0.5292   Mean   : 5.963   Mean   :46.16  \n",
       " 3rd Qu.:1.0000   3rd Qu.: 8.000   3rd Qu.:60.00  \n",
       " Max.   :1.0000   Max.   :12.000   Max.   :98.00  \n",
       " NA's   :31       NA's   :6783     NA's   :163    "
      ]
     },
     "metadata": {},
     "output_type": "display_data"
    }
   ],
   "source": [
    "summary(hedon)"
   ]
  },
  {
   "cell_type": "code",
   "execution_count": 9,
   "metadata": {
    "scrolled": true
   },
   "outputs": [
    {
     "data": {
      "text/html": [
       "<table class=\"dataframe\">\n",
       "<caption>A data.frame: 6 × 7</caption>\n",
       "<thead>\n",
       "\t<tr><th></th><th scope=col>country</th><th scope=col>indiv</th><th scope=col>hed</th><th scope=col>eduyrs</th><th scope=col>female</th><th scope=col>income</th><th scope=col>age</th></tr>\n",
       "\t<tr><th></th><th scope=col>&lt;fct&gt;</th><th scope=col>&lt;int&gt;</th><th scope=col>&lt;dbl&gt;</th><th scope=col>&lt;int&gt;</th><th scope=col>&lt;int&gt;</th><th scope=col>&lt;int&gt;</th><th scope=col>&lt;int&gt;</th></tr>\n",
       "</thead>\n",
       "<tbody>\n",
       "\t<tr><th scope=row>1</th><td>Austria</td><td>1</td><td> 1.143</td><td>11</td><td>0</td><td>NA</td><td>53</td></tr>\n",
       "\t<tr><th scope=row>2</th><td>Austria</td><td>2</td><td> 0.762</td><td>14</td><td>0</td><td> 2</td><td>49</td></tr>\n",
       "\t<tr><th scope=row>3</th><td>Austria</td><td>3</td><td>-0.976</td><td> 9</td><td>1</td><td>NA</td><td>62</td></tr>\n",
       "\t<tr><th scope=row>4</th><td>Austria</td><td>4</td><td>-1.667</td><td>18</td><td>0</td><td> 9</td><td>43</td></tr>\n",
       "\t<tr><th scope=row>5</th><td>Austria</td><td>5</td><td> 1.143</td><td>15</td><td>1</td><td> 9</td><td>40</td></tr>\n",
       "\t<tr><th scope=row>6</th><td>Austria</td><td>6</td><td> 1.500</td><td>11</td><td>1</td><td> 5</td><td>62</td></tr>\n",
       "</tbody>\n",
       "</table>\n"
      ],
      "text/latex": [
       "A data.frame: 6 × 7\n",
       "\\begin{tabular}{r|lllllll}\n",
       "  & country & indiv & hed & eduyrs & female & income & age\\\\\n",
       "  & <fct> & <int> & <dbl> & <int> & <int> & <int> & <int>\\\\\n",
       "\\hline\n",
       "\t1 & Austria & 1 &  1.143 & 11 & 0 & NA & 53\\\\\n",
       "\t2 & Austria & 2 &  0.762 & 14 & 0 &  2 & 49\\\\\n",
       "\t3 & Austria & 3 & -0.976 &  9 & 1 & NA & 62\\\\\n",
       "\t4 & Austria & 4 & -1.667 & 18 & 0 &  9 & 43\\\\\n",
       "\t5 & Austria & 5 &  1.143 & 15 & 1 &  9 & 40\\\\\n",
       "\t6 & Austria & 6 &  1.500 & 11 & 1 &  5 & 62\\\\\n",
       "\\end{tabular}\n"
      ],
      "text/markdown": [
       "\n",
       "A data.frame: 6 × 7\n",
       "\n",
       "| <!--/--> | country &lt;fct&gt; | indiv &lt;int&gt; | hed &lt;dbl&gt; | eduyrs &lt;int&gt; | female &lt;int&gt; | income &lt;int&gt; | age &lt;int&gt; |\n",
       "|---|---|---|---|---|---|---|---|\n",
       "| 1 | Austria | 1 |  1.143 | 11 | 0 | NA | 53 |\n",
       "| 2 | Austria | 2 |  0.762 | 14 | 0 |  2 | 49 |\n",
       "| 3 | Austria | 3 | -0.976 |  9 | 1 | NA | 62 |\n",
       "| 4 | Austria | 4 | -1.667 | 18 | 0 |  9 | 43 |\n",
       "| 5 | Austria | 5 |  1.143 | 15 | 1 |  9 | 40 |\n",
       "| 6 | Austria | 6 |  1.500 | 11 | 1 |  5 | 62 |\n",
       "\n"
      ],
      "text/plain": [
       "  country indiv hed    eduyrs female income age\n",
       "1 Austria 1      1.143 11     0      NA     53 \n",
       "2 Austria 2      0.762 14     0       2     49 \n",
       "3 Austria 3     -0.976  9     1      NA     62 \n",
       "4 Austria 4     -1.667 18     0       9     43 \n",
       "5 Austria 5      1.143 15     1       9     40 \n",
       "6 Austria 6      1.500 11     1       5     62 "
      ]
     },
     "metadata": {},
     "output_type": "display_data"
    }
   ],
   "source": [
    "head (hedon)"
   ]
  },
  {
   "cell_type": "markdown",
   "metadata": {},
   "source": [
    "Looking at the above output, answer the following questions.\n",
    "\n",
    "    1) How many cases are in the dataset? length(hedon$indiv)  36527\n",
    "    2) How many variables are in the dataset? ncol(hedon) 7\n",
    "    3) What type of variable is \"country\"?"
   ]
  },
  {
   "cell_type": "markdown",
   "metadata": {},
   "source": [
    "### Running a Variance Component Model ###"
   ]
  },
  {
   "cell_type": "markdown",
   "metadata": {},
   "source": [
    "In R, a multilevel model for a continuous outcome can be estimated through the \"lmer\" command in the \"lme4\" package.\n",
    "\n",
    "The syntax for \"lmer\" is broadly similar to that of the \"lm\" command used to run OLS regession models in R.  That is to say, the output is written to an object, involves a formula listing the dependent variable and any independent variables, as well as a reference to the dataframe that should be read in order to estimate the model.  In addition, the \"lmer\" command includes an argument to inform R of which variable represents the clustering of cases within the data.\n",
    "\n",
    "When undertaking multilevel modelling, you should start by estimating a null model, or a Variance Component Model.  This is a model with no independent variables, it provides an estimate of the extent to which the unexplained variation in an outcome can be attributed to the different levels of clustering within the data (in this case how much of the variation in hedonism score can be attributed to the respondent, and how much to the country in which they live. \n",
    "\n",
    "The \"lmer\" command below works as follows :-\n",
    "\n",
    "    1) The estimated model is written to an object called \"nullmodel\"\n",
    "    2) The dependent variable is \"hed\" this is entered to the left of the ~ symbol.\n",
    "    3) Any independent variables are listed to the right of the ~, seperated by +.  No independent variables are included in this model\n",
    "    4) (1|country) defines the random part of the model.  In this case, a random intercept is requested (siginified by \"1\") and clusters of cases are represented by the variable \"country\"\n",
    "    5) The model is to be estimated using the dataframe \"hedon\"\n",
    "    6) Setting \"REML=FALSE\" means the model will be estimated through maximum, rather than restricted, likelihood.\n",
    "    \n",
    "Models estimated with maximum likelihood will typically yield more robust results that those which use restricted likelihood; however the latter may be useful when estimating complex models since ML estimation can be time consuming or fail to converge."
   ]
  },
  {
   "cell_type": "code",
   "execution_count": 10,
   "metadata": {
    "scrolled": true
   },
   "outputs": [],
   "source": [
    "nullmodel <-lmer (hed~(1|country), data = na.omit(hedon), REML=FALSE)"
   ]
  },
  {
   "cell_type": "markdown",
   "metadata": {},
   "source": [
    "Using the R \"summary\" command to view the \"nullmodel\" object provides an overview of the model that was just estimated."
   ]
  },
  {
   "cell_type": "code",
   "execution_count": 11,
   "metadata": {
    "scrolled": true
   },
   "outputs": [
    {
     "data": {
      "text/plain": [
       "Linear mixed model fit by maximum likelihood  ['lmerMod']\n",
       "Formula: hed ~ (1 | country)\n",
       "   Data: na.omit(hedon)\n",
       "\n",
       "     AIC      BIC   logLik deviance df.resid \n",
       " 80005.1  80030.0 -39999.6  79999.1    29416 \n",
       "\n",
       "Scaled residuals: \n",
       "    Min      1Q  Median      3Q     Max \n",
       "-4.1423 -0.6578  0.0691  0.7061  4.0805 \n",
       "\n",
       "Random effects:\n",
       " Groups   Name        Variance Std.Dev.\n",
       " country  (Intercept) 0.09301  0.3050  \n",
       " Residual             0.88516  0.9408  \n",
       "Number of obs: 29419, groups:  country, 20\n",
       "\n",
       "Fixed effects:\n",
       "            Estimate Std. Error t value\n",
       "(Intercept) -0.22190    0.06843  -3.243"
      ]
     },
     "metadata": {},
     "output_type": "display_data"
    }
   ],
   "source": [
    "summary (nullmodel)"
   ]
  },
  {
   "cell_type": "markdown",
   "metadata": {},
   "source": [
    "The above output should be considered in four main sections.\n",
    "\n",
    "The output begins by summarising the requested model, it shows model formula, the dataset used and notes that the model was fitted through maximum likelihood.\n",
    "\n",
    "This is followed by a range of overall model fit statistics, including AIC, BIC and the log-likelihood value.\n",
    "\n",
    "The section headed \"Random effects\" details any coefficients/variables that are allowed to vary between clusters (in this case simply the intercept which varies between countries).  The figures in this section are used to calculate the Variance Partition Coefficient discussed below.\n",
    "\n",
    "This section also notes the total number of cases used to estimate the model, and how many groups (clusters) were included in the model.  In this case 36527 cases, spread across 20 countries.  This information is useful for ensuring your model includes the expected data.\n",
    "\n",
    "The final section of the output, title \"Fixed Effects\", provides details of the regression coefficients estimated by the model.  These summarise the average impact of each explanatory variable included in the model and are interpreted in the same way as coefficients in a single level OLS regression model.  In this case, the value of the Intercept suggests that the mean score on the hedonism variable is -0.20."
   ]
  },
  {
   "cell_type": "markdown",
   "metadata": {},
   "source": [
    "### Calculating Variance Partition Coefficients (VPC)##"
   ]
  },
  {
   "cell_type": "markdown",
   "metadata": {},
   "source": [
    "The VPC is an estimate of the proportion of variance in the outcome that is accounted for by each level of data within the model.\n",
    "\n",
    "The variance explained at level 2 (in this case between countries) is calculated as,\n",
    "\n",
    "variance at level 2/ (variance at level 1+ variance at level 2).\n",
    "\n",
    "In this case,\n",
    "\n",
    "0.08977 / ( 0.88506 + 0.08977) = 0.09208 or 9.2%\n",
    "\n",
    "That is to say 9.2% of the variation in hedonism within this dataset is attributable to differences between countries, while 90.8% is due to differences at the indivdual level.\n"
   ]
  },
  {
   "cell_type": "markdown",
   "metadata": {},
   "source": [
    "### Establishing the Significance of a Multilevel Model ###"
   ]
  },
  {
   "cell_type": "markdown",
   "metadata": {},
   "source": [
    "The Variance Component Model can provide a formal statsitical test of whether clustering is a dataset is sufficient to require the use of a multilevel model, as oppossed to a single level regression model.\n",
    "\n",
    "Specifically, the overall model fit of the Variance Component Model is compared to an equivilent single level regression model.\n",
    "\n",
    "The \"lm\" command below estimates a single level OLS regression of hedonism with an intercept as the only indepedent variable.  This model is stored in an object called \"singlemodel\"."
   ]
  },
  {
   "cell_type": "code",
   "execution_count": 12,
   "metadata": {
    "scrolled": true
   },
   "outputs": [],
   "source": [
    "singlemodel <- lm (hed~1, data = na.omit(hedon))"
   ]
  },
  {
   "cell_type": "markdown",
   "metadata": {},
   "source": [
    "Comparing the two models through a chi-squared comparrison of their log-likelihood values provides a formal statistical test as to which model best fits the data.  Only if the multilevel model does not show a significant improvment in model fit could it be argued that a single level model might be appropriate for modelling the data.\n",
    "\n",
    "The command \"logLik()\" reports the log-likelihood value for a previously estimated model, as shown in the command box below."
   ]
  },
  {
   "cell_type": "code",
   "execution_count": 13,
   "metadata": {
    "scrolled": true
   },
   "outputs": [
    {
     "data": {
      "text/plain": [
       "'log Lik.' -39999.57 (df=3)"
      ]
     },
     "metadata": {},
     "output_type": "display_data"
    },
    {
     "data": {
      "text/plain": [
       "'log Lik.' -41369.65 (df=2)"
      ]
     },
     "metadata": {},
     "output_type": "display_data"
    }
   ],
   "source": [
    "logLik(nullmodel)\n",
    "logLik(singlemodel)"
   ]
  },
  {
   "cell_type": "markdown",
   "metadata": {},
   "source": [
    "The likelihood ratio test statistic is calculated as the difference in the log likelihood values for the two models:\n",
    "\n",
    "LR = 2(51294 – 49651)= 3288 on 1 d.f. (because there is only parameter difference between the models). \n",
    "\n",
    "Bearing in mind that the 5% point of a chi-squared distribution on 1 d.f. is 3.84, there is overwhelming evidence of country effects on hedonism.  This indicates that the multilevel model with country effects is most appropriate for modelling the data in this dataset.\n",
    "\n",
    "An alternative method to the manual calculation shown above is to use the \"anova\" command as shown below.  The key figure in this output is Pr(>Chisq) which indicates the statsitical significance of the difference in model fit between the two models.  In this case the p-value indicates a highly significant improvmet in model fit.  This reflects the calculation above, with any minor differences attributable to rounding error."
   ]
  },
  {
   "cell_type": "code",
   "execution_count": 14,
   "metadata": {
    "scrolled": true
   },
   "outputs": [
    {
     "data": {
      "text/html": [
       "<table class=\"dataframe\">\n",
       "<caption>A anova: 2 × 8</caption>\n",
       "<thead>\n",
       "\t<tr><th></th><th scope=col>npar</th><th scope=col>AIC</th><th scope=col>BIC</th><th scope=col>logLik</th><th scope=col>deviance</th><th scope=col>Chisq</th><th scope=col>Df</th><th scope=col>Pr(&gt;Chisq)</th></tr>\n",
       "\t<tr><th></th><th scope=col>&lt;dbl&gt;</th><th scope=col>&lt;dbl&gt;</th><th scope=col>&lt;dbl&gt;</th><th scope=col>&lt;dbl&gt;</th><th scope=col>&lt;dbl&gt;</th><th scope=col>&lt;dbl&gt;</th><th scope=col>&lt;dbl&gt;</th><th scope=col>&lt;dbl&gt;</th></tr>\n",
       "</thead>\n",
       "<tbody>\n",
       "\t<tr><th scope=row>singlemodel</th><td>2</td><td>82743.30</td><td>82759.88</td><td>-41369.65</td><td>82739.30</td><td>      NA</td><td>NA</td><td>NA</td></tr>\n",
       "\t<tr><th scope=row>nullmodel</th><td>3</td><td>80005.13</td><td>80030.00</td><td>-39999.57</td><td>79999.13</td><td>2740.169</td><td> 1</td><td> 0</td></tr>\n",
       "</tbody>\n",
       "</table>\n"
      ],
      "text/latex": [
       "A anova: 2 × 8\n",
       "\\begin{tabular}{r|llllllll}\n",
       "  & npar & AIC & BIC & logLik & deviance & Chisq & Df & Pr(>Chisq)\\\\\n",
       "  & <dbl> & <dbl> & <dbl> & <dbl> & <dbl> & <dbl> & <dbl> & <dbl>\\\\\n",
       "\\hline\n",
       "\tsinglemodel & 2 & 82743.30 & 82759.88 & -41369.65 & 82739.30 &       NA & NA & NA\\\\\n",
       "\tnullmodel & 3 & 80005.13 & 80030.00 & -39999.57 & 79999.13 & 2740.169 &  1 &  0\\\\\n",
       "\\end{tabular}\n"
      ],
      "text/markdown": [
       "\n",
       "A anova: 2 × 8\n",
       "\n",
       "| <!--/--> | npar &lt;dbl&gt; | AIC &lt;dbl&gt; | BIC &lt;dbl&gt; | logLik &lt;dbl&gt; | deviance &lt;dbl&gt; | Chisq &lt;dbl&gt; | Df &lt;dbl&gt; | Pr(&gt;Chisq) &lt;dbl&gt; |\n",
       "|---|---|---|---|---|---|---|---|---|\n",
       "| singlemodel | 2 | 82743.30 | 82759.88 | -41369.65 | 82739.30 |       NA | NA | NA |\n",
       "| nullmodel | 3 | 80005.13 | 80030.00 | -39999.57 | 79999.13 | 2740.169 |  1 |  0 |\n",
       "\n"
      ],
      "text/plain": [
       "            npar AIC      BIC      logLik    deviance Chisq    Df Pr(>Chisq)\n",
       "singlemodel 2    82743.30 82759.88 -41369.65 82739.30       NA NA NA        \n",
       "nullmodel   3    80005.13 80030.00 -39999.57 79999.13 2740.169  1  0        "
      ]
     },
     "metadata": {},
     "output_type": "display_data"
    }
   ],
   "source": [
    "anova (nullmodel, singlemodel)"
   ]
  },
  {
   "cell_type": "markdown",
   "metadata": {},
   "source": [
    "### Exploring Counrty Level Effects###"
   ]
  },
  {
   "cell_type": "markdown",
   "metadata": {},
   "source": [
    "Having established that clustering does appear to exist within the data, an interesting question is which counries, on average, have the highest levels of hedonism? And how does each country vary from the \"average\" county?\n",
    "\n",
    "These questions are addressed by reflecting on the random effects, and specifically the random intercepts, estimated within these models.  Within a model object, such as \"nullmodel\", which has been estimated through the \"lme4\" package, random effects are accessed through the \"ranef\" command.  \n",
    "\n",
    "For example, the commands below create an object called \"nullrand\" which contains details of the random intercept for each country, as estimated within \"nullmodel\"\n",
    "\n"
   ]
  },
  {
   "cell_type": "code",
   "execution_count": 15,
   "metadata": {
    "scrolled": true
   },
   "outputs": [
    {
     "data": {
      "text/plain": [
       "$country\n",
       "            (Intercept)\n",
       "Austria      0.00140527\n",
       "Belgium      0.38310395\n",
       "Switzerland  0.39730187\n",
       "Czech       -0.50827287\n",
       "Germany      0.08157257\n",
       "Denmark      0.41400239\n",
       "Spain       -0.25066098\n",
       "Finland     -0.06469529\n",
       "France       0.35710268\n",
       "uk          -0.17389334\n",
       "Greece      -0.16748004\n",
       "Hungary      0.24762921\n",
       "Ireland     -0.36715237\n",
       "Israel       0.04620787\n",
       "Netherlands  0.24681313\n",
       "Norway      -0.15081205\n",
       "Poland      -0.71201065\n",
       "Portugal    -0.04518459\n",
       "Sweden       0.25028683\n",
       "Slovenia     0.01473641\n",
       "\n",
       "with conditional variances for “country” "
      ]
     },
     "metadata": {},
     "output_type": "display_data"
    }
   ],
   "source": [
    "nullrand <- ranef(nullmodel)\n",
    "nullrand\n"
   ]
  },
  {
   "cell_type": "markdown",
   "metadata": {},
   "source": [
    "Random effects are often presented as caterpillar plots.  These show not only the level 2 residual for each country with regards to the intercept, but also a 95% confidence interval and sorts level 2 clusters in terms of the nature/extent of their variation from the average.\n",
    "\n",
    "The syntax below produces a caterpillar plot of the random intercepts associated with each country in \"nullmodel\".  In the event that a model contains more than one random parameter (a random coefficient model, introduced in the next tutorial), seperate plots will be produced for each ransom effect."
   ]
  },
  {
   "cell_type": "code",
   "execution_count": 16,
   "metadata": {
    "scrolled": true
   },
   "outputs": [
    {
     "data": {
      "text/plain": [
       "$country\n"
      ]
     },
     "metadata": {},
     "output_type": "display_data"
    },
    {
     "data": {
      "image/png": "[encoded data removed]",
      "text/plain": [
       "plot without title"
      ]
     },
     "metadata": {
      "image/png": {
       "height": 420,
       "width": 420
      }
     },
     "output_type": "display_data"
    }
   ],
   "source": [
    "dotplot(ranef(nullmodel))"
   ]
  },
  {
   "cell_type": "markdown",
   "metadata": {},
   "source": [
    "Recall that random effects respresent how a particular level 2 unit (in this case a country) varies from the average, measured in standard deviations.  Hence the figure 0.0 in the graph above represents the \"average country\".  Countries for which the confidence interval of the random effect does not cross 0.0 can be said to be different from the average.\n",
    "\n",
    "Countries with negative random effects have, on average, lower levels of hedonism.  Positive random effects are assoicated with higher average levels of hedonism, i.e. on average Poland appears the least hedonistic country, while Denmark appears the most."
   ]
  },
  {
   "cell_type": "markdown",
   "metadata": {},
   "source": [
    "### Running a Random Intercept Model ###"
   ]
  },
  {
   "cell_type": "markdown",
   "metadata": {},
   "source": [
    "Adding explanatory varaibles to the Variance Component Model turns the model into a Random Intercept Model. Comparing Random Intercept models to the previously estimated Variance Component Model will indicate the extent to which differences between countries remain after controlling for the independent variabes thata re then included.  Put another way, to what extent do any independent variables included in the Random Intercept Model help explain differences between countries? \n",
    "\n",
    "The next model considers only one independent variable (the respondent's age) but individual income, education and gender will be considered below. \n",
    "\n",
    "In essence, the research question has become `Do differences in hedonism between countries remain after controlling for individual age?'"
   ]
  },
  {
   "cell_type": "markdown",
   "metadata": {},
   "source": [
    "As highlighted in Tutorial 1, it is standard practice to centre any continuous independent before estimating a multilevel model.  The following syntax calculates a new variable, \"agecen\" containing each respondent's age centered around the grand mean age of the sample.  The final command confirms that variable is now part of the \"hedon\" dataframe.\n",
    "\n",
    "Recall from Tutorial 1 that centering the age variable makes interpretation of the model easier since the coefficient associated with the intercept can be interpreted as the average level of hedonism for a respondent of mean age."
   ]
  },
  {
   "cell_type": "code",
   "execution_count": 17,
   "metadata": {
    "scrolled": true
   },
   "outputs": [
    {
     "data": {
      "text/plain": [
       "        country          indiv            hed              eduyrs     \n",
       " Germany    : 2785   Min.   :    1   Min.   :-4.1580   Min.   : 0.00  \n",
       " Greece     : 2453   1st Qu.: 9132   1st Qu.:-0.8330   1st Qu.: 9.00  \n",
       " Netherlands: 2301   Median :18264   Median :-0.1190   Median :12.00  \n",
       " Austria    : 2203   Mean   :18264   Mean   :-0.2036   Mean   :11.92  \n",
       " Israel     : 2167   3rd Qu.:27396   3rd Qu.: 0.5000   3rd Qu.:14.00  \n",
       " Switzerland: 2005   Max.   :36527   Max.   : 3.2500   Max.   :40.00  \n",
       " (Other)    :22613                                     NA's   :445    \n",
       "     female           income            age            agecen       \n",
       " Min.   :0.0000   Min.   : 1.000   Min.   :14.00   Min.   :-32.156  \n",
       " 1st Qu.:0.0000   1st Qu.: 4.000   1st Qu.:32.00   1st Qu.:-14.156  \n",
       " Median :1.0000   Median : 6.000   Median :45.00   Median : -1.156  \n",
       " Mean   :0.5292   Mean   : 5.963   Mean   :46.16   Mean   :  0.000  \n",
       " 3rd Qu.:1.0000   3rd Qu.: 8.000   3rd Qu.:60.00   3rd Qu.: 13.844  \n",
       " Max.   :1.0000   Max.   :12.000   Max.   :98.00   Max.   : 51.844  \n",
       " NA's   :31       NA's   :6783     NA's   :163     NA's   :163      "
      ]
     },
     "metadata": {},
     "output_type": "display_data"
    },
    {
     "data": {
      "image/png": "[encoded data removed]",
      "text/plain": [
       "plot without title"
      ]
     },
     "metadata": {
      "image/png": {
       "height": 420,
       "width": 420
      }
     },
     "output_type": "display_data"
    }
   ],
   "source": [
    "meanage <- mean (hedon$age, na.rm=TRUE)\n",
    "hedon$agecen = hedon$age-meanage\n",
    "summary (hedon)\n",
    "\n",
    "plot(hedon$agecen, hedon$eduyrs)"
   ]
  },
  {
   "cell_type": "markdown",
   "metadata": {},
   "source": [
    "The command box below shows the syntax needed to run a Random Intercept Model with centered age as the only independent variable.  The syntax is esentially the same as for the Variance Component Model with the addition of \"agecen +\" to the right-hand side of the ~.  \n",
    "\n",
    "This is essentially the same as adding an explanatory variable to an OLS regression estimated using the \"lm\" command.\n",
    "\n",
    "The Random Intercept model is stored in an object called \"ri1\"."
   ]
  },
  {
   "cell_type": "code",
   "execution_count": 18,
   "metadata": {
    "scrolled": false
   },
   "outputs": [
    {
     "data": {
      "text/plain": [
       "Linear mixed model fit by maximum likelihood  ['lmerMod']\n",
       "Formula: hed ~ agecen + (1 | country)\n",
       "   Data: na.omit(hedon)\n",
       "\n",
       "     AIC      BIC   logLik deviance df.resid \n",
       " 76790.0  76823.1 -38391.0  76782.0    29415 \n",
       "\n",
       "Scaled residuals: \n",
       "    Min      1Q  Median      3Q     Max \n",
       "-4.1322 -0.6558  0.0483  0.6901  4.7761 \n",
       "\n",
       "Random effects:\n",
       " Groups   Name        Variance Std.Dev.\n",
       " country  (Intercept) 0.09151  0.3025  \n",
       " Residual             0.79342  0.8907  \n",
       "Number of obs: 29419, groups:  country, 20\n",
       "\n",
       "Fixed effects:\n",
       "              Estimate Std. Error t value\n",
       "(Intercept) -0.2085103  0.0678553  -3.073\n",
       "agecen      -0.0173135  0.0002969 -58.307\n",
       "\n",
       "Correlation of Fixed Effects:\n",
       "       (Intr)\n",
       "agecen -0.003"
      ]
     },
     "metadata": {},
     "output_type": "display_data"
    }
   ],
   "source": [
    "ri1 <-lmer (hed~ agecen + (1|country), data = na.omit(hedon), REML=FALSE)\n",
    "summary (ri1)"
   ]
  },
  {
   "cell_type": "markdown",
   "metadata": {},
   "source": [
    "The coefficient for age is -0.017 and can be interpreted as follows. Older people are less hedonistic; for every extra year, hedionism drops, on average, by 0.017. The t-value for this coefficient is highly statsitically significant.\n",
    "\n",
    "Compared to the variance components model, the intercept has hardly changed, nor has the level 2 variance. This suggests that the answer to the question, \"Do differences in hedonism between countries remain after controlling for individual age?\" is `Yes'. \n",
    "\n",
    "However, as above, a formal answer to the question of whether significance variance exists at level 2 (the country level) of the model is best achieved by comparing the model fit of this model (ri1) with the equivalent single level model.\n",
    "\n",
    "Using the command box below construct a single level OLS regression model of the effect of the centered age variable on hedonism; store that model in an object, and use the \"anova\" command to establish whether model \"ri1\" better fits the data compared to a single level model.  What do you conclude?"
   ]
  },
  {
   "cell_type": "code",
   "execution_count": 19,
   "metadata": {
    "scrolled": true
   },
   "outputs": [
    {
     "data": {
      "text/plain": [
       "\n",
       "Call:\n",
       "lm(formula = hed ~ 1 + agecen, data = na.omit(hedon))\n",
       "\n",
       "Residuals:\n",
       "    Min      1Q  Median      3Q     Max \n",
       "-4.0930 -0.6034  0.0638  0.6548  3.8436 \n",
       "\n",
       "Coefficients:\n",
       "             Estimate Std. Error t value Pr(>|t|)    \n",
       "(Intercept) -0.205429   0.005489  -37.43   <2e-16 ***\n",
       "agecen      -0.016991   0.000311  -54.63   <2e-16 ***\n",
       "---\n",
       "Signif. codes:  0 ‘***’ 0.001 ‘**’ 0.01 ‘*’ 0.05 ‘.’ 0.1 ‘ ’ 1\n",
       "\n",
       "Residual standard error: 0.9408 on 29417 degrees of freedom\n",
       "Multiple R-squared:  0.0921,\tAdjusted R-squared:  0.09207 \n",
       "F-statistic:  2984 on 1 and 29417 DF,  p-value: < 2.2e-16\n"
      ]
     },
     "metadata": {},
     "output_type": "display_data"
    },
    {
     "data": {
      "text/html": [
       "<table class=\"dataframe\">\n",
       "<caption>A anova: 2 × 8</caption>\n",
       "<thead>\n",
       "\t<tr><th></th><th scope=col>npar</th><th scope=col>AIC</th><th scope=col>BIC</th><th scope=col>logLik</th><th scope=col>deviance</th><th scope=col>Chisq</th><th scope=col>Df</th><th scope=col>Pr(&gt;Chisq)</th></tr>\n",
       "\t<tr><th></th><th scope=col>&lt;dbl&gt;</th><th scope=col>&lt;dbl&gt;</th><th scope=col>&lt;dbl&gt;</th><th scope=col>&lt;dbl&gt;</th><th scope=col>&lt;dbl&gt;</th><th scope=col>&lt;dbl&gt;</th><th scope=col>&lt;dbl&gt;</th><th scope=col>&lt;dbl&gt;</th></tr>\n",
       "</thead>\n",
       "<tbody>\n",
       "\t<tr><th scope=row>sl1</th><td>3</td><td>79902.90</td><td>79927.77</td><td>-39948.45</td><td>79896.90</td><td>      NA</td><td>NA</td><td>NA</td></tr>\n",
       "\t<tr><th scope=row>ri1</th><td>4</td><td>76789.99</td><td>76823.14</td><td>-38390.99</td><td>76781.99</td><td>3114.915</td><td> 1</td><td> 0</td></tr>\n",
       "</tbody>\n",
       "</table>\n"
      ],
      "text/latex": [
       "A anova: 2 × 8\n",
       "\\begin{tabular}{r|llllllll}\n",
       "  & npar & AIC & BIC & logLik & deviance & Chisq & Df & Pr(>Chisq)\\\\\n",
       "  & <dbl> & <dbl> & <dbl> & <dbl> & <dbl> & <dbl> & <dbl> & <dbl>\\\\\n",
       "\\hline\n",
       "\tsl1 & 3 & 79902.90 & 79927.77 & -39948.45 & 79896.90 &       NA & NA & NA\\\\\n",
       "\tri1 & 4 & 76789.99 & 76823.14 & -38390.99 & 76781.99 & 3114.915 &  1 &  0\\\\\n",
       "\\end{tabular}\n"
      ],
      "text/markdown": [
       "\n",
       "A anova: 2 × 8\n",
       "\n",
       "| <!--/--> | npar &lt;dbl&gt; | AIC &lt;dbl&gt; | BIC &lt;dbl&gt; | logLik &lt;dbl&gt; | deviance &lt;dbl&gt; | Chisq &lt;dbl&gt; | Df &lt;dbl&gt; | Pr(&gt;Chisq) &lt;dbl&gt; |\n",
       "|---|---|---|---|---|---|---|---|---|\n",
       "| sl1 | 3 | 79902.90 | 79927.77 | -39948.45 | 79896.90 |       NA | NA | NA |\n",
       "| ri1 | 4 | 76789.99 | 76823.14 | -38390.99 | 76781.99 | 3114.915 |  1 |  0 |\n",
       "\n"
      ],
      "text/plain": [
       "    npar AIC      BIC      logLik    deviance Chisq    Df Pr(>Chisq)\n",
       "sl1 3    79902.90 79927.77 -39948.45 79896.90       NA NA NA        \n",
       "ri1 4    76789.99 76823.14 -38390.99 76781.99 3114.915  1  0        "
      ]
     },
     "metadata": {},
     "output_type": "display_data"
    }
   ],
   "source": [
    "sl1 <- lm (hed~1+agecen, data = na.omit(hedon))\n",
    "summary (sl1)\n",
    "anova (ri1, sl1)"
   ]
  },
  {
   "cell_type": "markdown",
   "metadata": {},
   "source": [
    "### Checking if the inclusion of an explanatory variable improves model fit###"
   ]
  },
  {
   "cell_type": "markdown",
   "metadata": {},
   "source": [
    "Just as the Anova/chi-squared test can be used to compare the fit of a multilevel model to the eqivilent single level model, so it can be used to compare a Variance Component Model to a Random Intercept Model.  This formally addresses the question, \"Has adding an explanatory variable to the model improved the fit of the model?\"\n",
    "\n",
    "Recall that the Variance Component Model was stored in an object called \"nullmodel\".  Hence, the \"anova\" command below should provide a test of which model best fits the data."
   ]
  },
  {
   "cell_type": "code",
   "execution_count": 20,
   "metadata": {
    "scrolled": true
   },
   "outputs": [
    {
     "data": {
      "text/html": [
       "<table class=\"dataframe\">\n",
       "<caption>A anova: 2 × 8</caption>\n",
       "<thead>\n",
       "\t<tr><th></th><th scope=col>npar</th><th scope=col>AIC</th><th scope=col>BIC</th><th scope=col>logLik</th><th scope=col>deviance</th><th scope=col>Chisq</th><th scope=col>Df</th><th scope=col>Pr(&gt;Chisq)</th></tr>\n",
       "\t<tr><th></th><th scope=col>&lt;dbl&gt;</th><th scope=col>&lt;dbl&gt;</th><th scope=col>&lt;dbl&gt;</th><th scope=col>&lt;dbl&gt;</th><th scope=col>&lt;dbl&gt;</th><th scope=col>&lt;dbl&gt;</th><th scope=col>&lt;dbl&gt;</th><th scope=col>&lt;dbl&gt;</th></tr>\n",
       "</thead>\n",
       "<tbody>\n",
       "\t<tr><th scope=row>nullmodel</th><td>3</td><td>80005.13</td><td>80030.00</td><td>-39999.57</td><td>79999.13</td><td>      NA</td><td>NA</td><td>NA</td></tr>\n",
       "\t<tr><th scope=row>ri1</th><td>4</td><td>76789.99</td><td>76823.14</td><td>-38390.99</td><td>76781.99</td><td>3217.144</td><td> 1</td><td> 0</td></tr>\n",
       "</tbody>\n",
       "</table>\n"
      ],
      "text/latex": [
       "A anova: 2 × 8\n",
       "\\begin{tabular}{r|llllllll}\n",
       "  & npar & AIC & BIC & logLik & deviance & Chisq & Df & Pr(>Chisq)\\\\\n",
       "  & <dbl> & <dbl> & <dbl> & <dbl> & <dbl> & <dbl> & <dbl> & <dbl>\\\\\n",
       "\\hline\n",
       "\tnullmodel & 3 & 80005.13 & 80030.00 & -39999.57 & 79999.13 &       NA & NA & NA\\\\\n",
       "\tri1 & 4 & 76789.99 & 76823.14 & -38390.99 & 76781.99 & 3217.144 &  1 &  0\\\\\n",
       "\\end{tabular}\n"
      ],
      "text/markdown": [
       "\n",
       "A anova: 2 × 8\n",
       "\n",
       "| <!--/--> | npar &lt;dbl&gt; | AIC &lt;dbl&gt; | BIC &lt;dbl&gt; | logLik &lt;dbl&gt; | deviance &lt;dbl&gt; | Chisq &lt;dbl&gt; | Df &lt;dbl&gt; | Pr(&gt;Chisq) &lt;dbl&gt; |\n",
       "|---|---|---|---|---|---|---|---|---|\n",
       "| nullmodel | 3 | 80005.13 | 80030.00 | -39999.57 | 79999.13 |       NA | NA | NA |\n",
       "| ri1 | 4 | 76789.99 | 76823.14 | -38390.99 | 76781.99 | 3217.144 |  1 |  0 |\n",
       "\n"
      ],
      "text/plain": [
       "          npar AIC      BIC      logLik    deviance Chisq    Df Pr(>Chisq)\n",
       "nullmodel 3    80005.13 80030.00 -39999.57 79999.13       NA NA NA        \n",
       "ri1       4    76789.99 76823.14 -38390.99 76781.99 3217.144  1  0        "
      ]
     },
     "metadata": {},
     "output_type": "display_data"
    }
   ],
   "source": [
    "anova (ri1, nullmodel)"
   ]
  },
  {
   "cell_type": "markdown",
   "metadata": {},
   "source": [
    "Log-likelihood ratio tests (the formal test behind the Anova command) require that both models have been run on identical samples.  Yet due to missing data on the age variable, the sample size for the random intercept model is 36364 compared to 36527 for the Variance Component Model.  This is reflected in the message \"models were not all fitted to the same size of dataset\"\n",
    "\n",
    "The command below creates a new object \"nullmodelx\".  This repeats the Variance Component Model estimaed above but restricts the data used to those cases which were also used in the \"ri1\" model.  This is achieved through the argument,\n",
    "\n",
    "data=na.omit(hedon[ , all.vars(formula(ri1))])\n",
    "\n",
    "This command reduces the dataset by removing any cases which have missing data \"na.omit\" on any of the variables used in the ri1 model \"all.vars(formula(ri1)\"\n"
   ]
  },
  {
   "cell_type": "code",
   "execution_count": 21,
   "metadata": {
    "scrolled": true
   },
   "outputs": [
    {
     "data": {
      "text/plain": [
       "Linear mixed model fit by maximum likelihood  ['lmerMod']\n",
       "Formula: hed ~ (1 | country)\n",
       "   Data: na.omit(hedon)\n",
       "\n",
       "     AIC      BIC   logLik deviance df.resid \n",
       " 80005.1  80030.0 -39999.6  79999.1    29416 \n",
       "\n",
       "Scaled residuals: \n",
       "    Min      1Q  Median      3Q     Max \n",
       "-4.1423 -0.6578  0.0691  0.7061  4.0805 \n",
       "\n",
       "Random effects:\n",
       " Groups   Name        Variance Std.Dev.\n",
       " country  (Intercept) 0.09301  0.3050  \n",
       " Residual             0.88516  0.9408  \n",
       "Number of obs: 29419, groups:  country, 20\n",
       "\n",
       "Fixed effects:\n",
       "            Estimate Std. Error t value\n",
       "(Intercept) -0.22190    0.06843  -3.243"
      ]
     },
     "metadata": {},
     "output_type": "display_data"
    },
    {
     "data": {
      "text/html": [
       "<table class=\"dataframe\">\n",
       "<caption>A anova: 2 × 8</caption>\n",
       "<thead>\n",
       "\t<tr><th></th><th scope=col>npar</th><th scope=col>AIC</th><th scope=col>BIC</th><th scope=col>logLik</th><th scope=col>deviance</th><th scope=col>Chisq</th><th scope=col>Df</th><th scope=col>Pr(&gt;Chisq)</th></tr>\n",
       "\t<tr><th></th><th scope=col>&lt;dbl&gt;</th><th scope=col>&lt;dbl&gt;</th><th scope=col>&lt;dbl&gt;</th><th scope=col>&lt;dbl&gt;</th><th scope=col>&lt;dbl&gt;</th><th scope=col>&lt;dbl&gt;</th><th scope=col>&lt;dbl&gt;</th><th scope=col>&lt;dbl&gt;</th></tr>\n",
       "</thead>\n",
       "<tbody>\n",
       "\t<tr><th scope=row>nullmodelx</th><td>3</td><td>80005.13</td><td>80030.00</td><td>-39999.57</td><td>79999.13</td><td>      NA</td><td>NA</td><td>NA</td></tr>\n",
       "\t<tr><th scope=row>ri1</th><td>4</td><td>76789.99</td><td>76823.14</td><td>-38390.99</td><td>76781.99</td><td>3217.144</td><td> 1</td><td> 0</td></tr>\n",
       "</tbody>\n",
       "</table>\n"
      ],
      "text/latex": [
       "A anova: 2 × 8\n",
       "\\begin{tabular}{r|llllllll}\n",
       "  & npar & AIC & BIC & logLik & deviance & Chisq & Df & Pr(>Chisq)\\\\\n",
       "  & <dbl> & <dbl> & <dbl> & <dbl> & <dbl> & <dbl> & <dbl> & <dbl>\\\\\n",
       "\\hline\n",
       "\tnullmodelx & 3 & 80005.13 & 80030.00 & -39999.57 & 79999.13 &       NA & NA & NA\\\\\n",
       "\tri1 & 4 & 76789.99 & 76823.14 & -38390.99 & 76781.99 & 3217.144 &  1 &  0\\\\\n",
       "\\end{tabular}\n"
      ],
      "text/markdown": [
       "\n",
       "A anova: 2 × 8\n",
       "\n",
       "| <!--/--> | npar &lt;dbl&gt; | AIC &lt;dbl&gt; | BIC &lt;dbl&gt; | logLik &lt;dbl&gt; | deviance &lt;dbl&gt; | Chisq &lt;dbl&gt; | Df &lt;dbl&gt; | Pr(&gt;Chisq) &lt;dbl&gt; |\n",
       "|---|---|---|---|---|---|---|---|---|\n",
       "| nullmodelx | 3 | 80005.13 | 80030.00 | -39999.57 | 79999.13 |       NA | NA | NA |\n",
       "| ri1 | 4 | 76789.99 | 76823.14 | -38390.99 | 76781.99 | 3217.144 |  1 |  0 |\n",
       "\n"
      ],
      "text/plain": [
       "           npar AIC      BIC      logLik    deviance Chisq    Df Pr(>Chisq)\n",
       "nullmodelx 3    80005.13 80030.00 -39999.57 79999.13       NA NA NA        \n",
       "ri1        4    76789.99 76823.14 -38390.99 76781.99 3217.144  1  0        "
      ]
     },
     "metadata": {},
     "output_type": "display_data"
    }
   ],
   "source": [
    "nullmodelx <-lmer (hed~(1|country), data=na.omit(hedon), REML=FALSE)\n",
    "summary (nullmodelx)\n",
    "anova (ri1, nullmodelx)"
   ]
  },
  {
   "cell_type": "markdown",
   "metadata": {},
   "source": [
    "Despite model \"nullmodelx\" reporting a sample size of 36364 (which is identical to the sample size in model \"ri1\") the \"anova\" command still fails, reporting \"all models must be fit to the same data object\".\n",
    "\n",
    "As an added level of robustness, when conducting a Log-likelihood Ratio Test, R requires not only that the two models been compared have identical sample sizes, but also that the underlying dataset used in both models were identical.  In order to conduct the comparrison of the two models it is therefore neccssary to rerun model \"ri1\" using the same dataset constraint as was employed to estimate model \"nullmodelx\".\n",
    "\n",
    "This test formally confirms that the Random Intercept Model, including a respondent's age, is a better fit for the data than the null model which included no independent variables."
   ]
  },
  {
   "cell_type": "code",
   "execution_count": 22,
   "metadata": {
    "scrolled": true
   },
   "outputs": [
    {
     "data": {
      "text/plain": [
       "Linear mixed model fit by maximum likelihood  ['lmerMod']\n",
       "Formula: hed ~ agecen + (1 | country)\n",
       "   Data: na.omit(hedon)\n",
       "\n",
       "     AIC      BIC   logLik deviance df.resid \n",
       " 76790.0  76823.1 -38391.0  76782.0    29415 \n",
       "\n",
       "Scaled residuals: \n",
       "    Min      1Q  Median      3Q     Max \n",
       "-4.1322 -0.6558  0.0483  0.6901  4.7761 \n",
       "\n",
       "Random effects:\n",
       " Groups   Name        Variance Std.Dev.\n",
       " country  (Intercept) 0.09151  0.3025  \n",
       " Residual             0.79342  0.8907  \n",
       "Number of obs: 29419, groups:  country, 20\n",
       "\n",
       "Fixed effects:\n",
       "              Estimate Std. Error t value\n",
       "(Intercept) -0.2085103  0.0678553  -3.073\n",
       "agecen      -0.0173135  0.0002969 -58.307\n",
       "\n",
       "Correlation of Fixed Effects:\n",
       "       (Intr)\n",
       "agecen -0.003"
      ]
     },
     "metadata": {},
     "output_type": "display_data"
    },
    {
     "data": {
      "text/html": [
       "<table class=\"dataframe\">\n",
       "<caption>A anova: 2 × 8</caption>\n",
       "<thead>\n",
       "\t<tr><th></th><th scope=col>npar</th><th scope=col>AIC</th><th scope=col>BIC</th><th scope=col>logLik</th><th scope=col>deviance</th><th scope=col>Chisq</th><th scope=col>Df</th><th scope=col>Pr(&gt;Chisq)</th></tr>\n",
       "\t<tr><th></th><th scope=col>&lt;dbl&gt;</th><th scope=col>&lt;dbl&gt;</th><th scope=col>&lt;dbl&gt;</th><th scope=col>&lt;dbl&gt;</th><th scope=col>&lt;dbl&gt;</th><th scope=col>&lt;dbl&gt;</th><th scope=col>&lt;dbl&gt;</th><th scope=col>&lt;dbl&gt;</th></tr>\n",
       "</thead>\n",
       "<tbody>\n",
       "\t<tr><th scope=row>nullmodelx</th><td>3</td><td>80005.13</td><td>80030.00</td><td>-39999.57</td><td>79999.13</td><td>      NA</td><td>NA</td><td>NA</td></tr>\n",
       "\t<tr><th scope=row>ri1x</th><td>4</td><td>76789.99</td><td>76823.14</td><td>-38390.99</td><td>76781.99</td><td>3217.144</td><td> 1</td><td> 0</td></tr>\n",
       "</tbody>\n",
       "</table>\n"
      ],
      "text/latex": [
       "A anova: 2 × 8\n",
       "\\begin{tabular}{r|llllllll}\n",
       "  & npar & AIC & BIC & logLik & deviance & Chisq & Df & Pr(>Chisq)\\\\\n",
       "  & <dbl> & <dbl> & <dbl> & <dbl> & <dbl> & <dbl> & <dbl> & <dbl>\\\\\n",
       "\\hline\n",
       "\tnullmodelx & 3 & 80005.13 & 80030.00 & -39999.57 & 79999.13 &       NA & NA & NA\\\\\n",
       "\tri1x & 4 & 76789.99 & 76823.14 & -38390.99 & 76781.99 & 3217.144 &  1 &  0\\\\\n",
       "\\end{tabular}\n"
      ],
      "text/markdown": [
       "\n",
       "A anova: 2 × 8\n",
       "\n",
       "| <!--/--> | npar &lt;dbl&gt; | AIC &lt;dbl&gt; | BIC &lt;dbl&gt; | logLik &lt;dbl&gt; | deviance &lt;dbl&gt; | Chisq &lt;dbl&gt; | Df &lt;dbl&gt; | Pr(&gt;Chisq) &lt;dbl&gt; |\n",
       "|---|---|---|---|---|---|---|---|---|\n",
       "| nullmodelx | 3 | 80005.13 | 80030.00 | -39999.57 | 79999.13 |       NA | NA | NA |\n",
       "| ri1x | 4 | 76789.99 | 76823.14 | -38390.99 | 76781.99 | 3217.144 |  1 |  0 |\n",
       "\n"
      ],
      "text/plain": [
       "           npar AIC      BIC      logLik    deviance Chisq    Df Pr(>Chisq)\n",
       "nullmodelx 3    80005.13 80030.00 -39999.57 79999.13       NA NA NA        \n",
       "ri1x       4    76789.99 76823.14 -38390.99 76781.99 3217.144  1  0        "
      ]
     },
     "metadata": {},
     "output_type": "display_data"
    }
   ],
   "source": [
    "ri1x <-lmer (hed~ agecen + (1|country), data=na.omit(hedon), REML=FALSE)\n",
    "summary (ri1x)\n",
    "anova (nullmodelx, ri1x)"
   ]
  },
  {
   "cell_type": "markdown",
   "metadata": {},
   "source": [
    "While the Level 2 variance was little changed between the null model and the random intercept model including age, suggesting that adding respondent age to the model did little to explain differences in hedonism between countries, there is a reduction in the Level 1 variance (0.7869 in model ri1x compared to 0.8854 in nullmodelx).  This suggests that including respondent age in the model does explain some of the variation in hedonism between individuals. "
   ]
  },
  {
   "cell_type": "markdown",
   "metadata": {},
   "source": [
    "### Controlling for a Respondent's Gender and Years of Education###"
   ]
  },
  {
   "cell_type": "markdown",
   "metadata": {},
   "source": [
    "Consider the variables \"female\" and \"eduyrs\".  Expand the random intercept model to consider the impact of an individual's gender and experience of education on hedonism.  For each model you chose to run you should :-\n",
    "\n",
    "    1) Centre independent variables as needed.\n",
    "    2) Establish if adding additional variable(s) improves your model fit.\n",
    "    3) Interpret the average impact of each independent variable in substantive terms\n",
    "    4) Reflect on the extent to which introducing further indepndent variables changes the amount of unexplained variance at the individual and country levels\n",
    "    5) Calculate a VPC for each model you run, and interpret any changes in this between models.\n",
    "    6) Extract the random intercepts for your final model.  Compare the order of countries, and the magnitude of effects, to those in the null model above."
   ]
  },
  {
   "cell_type": "code",
   "execution_count": 26,
   "metadata": {
    "scrolled": true
   },
   "outputs": [
    {
     "ename": "ERROR",
     "evalue": "Error in parse(text = x, srcfile = src): <text>:26:14: unexpected symbol\n25: #These small changes might be accounted for by the differently aged populations or the number of years of education pursued in the different countries.\n26: print(rand_1).\n                 ^\n",
     "output_type": "error",
     "traceback": [
      "Error in parse(text = x, srcfile = src): <text>:26:14: unexpected symbol\n25: #These small changes might be accounted for by the differently aged populations or the number of years of education pursued in the different countries.\n26: print(rand_1).\n                 ^\nTraceback:\n"
     ]
    }
   ],
   "source": [
    "\n",
    "mean_ed <- mean(hedon$eduyrs, na.rm = T)\n",
    "hedon$eduyrs_cen <- hedon$eduyrs - mean_ed\n",
    "#First random intercepts regression includes a centred age variable and female\n",
    "New_mlm1 <- lmer(hed ~ agecen + female + (1|country), data=na.omit(hedon), REML = FALSE)\n",
    "#The second includes the same variables as the 1st model but also includes a centred variable for number of years of education\n",
    "New_mlm2 <- lmer(hed ~ agecen + female + eduyrs_cen + (1|country), data=na.omit(hedon), REML = FALSE)\n",
    "summary(New_mlm1)\n",
    "summary(New_mlm2)\n",
    "#In our  first model, the VPC is 10.3%, this suggests that 10.3% of the variance is explained by variation between country\n",
    "0.0910/(0.0910 +0.79034)\n",
    "#In our  first model, the VPC increases to 10.8%, this suggests that 10.8% of the variance is explained by variation between country\n",
    "#This is most likely due to the number of educational years explaining away some of the residual variance. \n",
    "#It be that the educational years profiles within each country may vary. \n",
    "#In this case, controlling for it may lead to an increased VPC because the within country variance would be reduced..\n",
    "0.09633/(0.09633 +0.79003)\n",
    "\n",
    "#Now, we can take a look at random effects\n",
    "rand_1 <- ranef(New_mlm1)\n",
    "rand_2 <- ranef(New_mlm2)\n",
    "dotplot(rand_2)\n",
    "#The  random effects are substantially similar to the null model. Denmark and Switzerland closer to the top.\n",
    "#However, there is some minor change with Switzerland now overtaking Denmark\n",
    "#UK, Czech and Poland closer to the bottom in both models as well. Generally very similar with a few small changes.\n",
    "#These small changes might be accounted for by the differently aged populations or the number of years of education pursued in the different countries.\n",
    "print(rand_1).\n",
    "print(rand_2)\n",
    "anova(New_mlm2, ri1x)"
   ]
  },
  {
   "cell_type": "markdown",
   "metadata": {},
   "source": [
    "### Advanced Issue ###"
   ]
  },
  {
   "cell_type": "markdown",
   "metadata": {},
   "source": [
    "Reflecting on the diagnostic commands introduced in Tutorial 1, can you produce residual plots for one of the multilevel models run in this tutorial?  You might consider a hedroskedasity check, and/or a q-q plot."
   ]
  },
  {
   "cell_type": "code",
   "execution_count": 37,
   "metadata": {
    "scrolled": true
   },
   "outputs": [
    {
     "data": {
      "image/png": "[encoded data removed]",
      "text/plain": [
       "Plot with title “Normal Q-Q Plot”"
      ]
     },
     "metadata": {
      "image/png": {
       "height": 420,
       "width": 420
      }
     },
     "output_type": "display_data"
    }
   ],
   "source": [
    "#We can use a qqplot to check for heteroskedasticity\n",
    "estd <- residuals(mlm2)\n",
    "qqnorm(estd)\n",
    "qqline(estd)\n",
    "#For the most part, it is on the 45 degree line but it might require some further modelling or model respecification"
   ]
  },
  {
   "cell_type": "code",
   "execution_count": 35,
   "metadata": {
    "scrolled": true
   },
   "outputs": [
    {
     "data": {
      "text/html": [
       "0.108680445868496"
      ],
      "text/latex": [
       "0.108680445868496"
      ],
      "text/markdown": [
       "0.108680445868496"
      ],
      "text/plain": [
       "[1] 0.1086804"
      ]
     },
     "metadata": {},
     "output_type": "display_data"
    }
   ],
   "source": []
  },
  {
   "cell_type": "code",
   "execution_count": 39,
   "metadata": {},
   "outputs": [
    {
     "data": {
      "text/html": [
       "<table class=\"dataframe\">\n",
       "<caption>A matrix: 36527 × 1 of type dbl</caption>\n",
       "<tbody>\n",
       "\t<tr><td>-0.23005589</td></tr>\n",
       "\t<tr><td> 0.51754634</td></tr>\n",
       "\t<tr><td>-0.72845738</td></tr>\n",
       "\t<tr><td> 1.51434931</td></tr>\n",
       "\t<tr><td> 0.76674708</td></tr>\n",
       "\t<tr><td>-0.23005589</td></tr>\n",
       "\t<tr><td>-0.47925664</td></tr>\n",
       "\t<tr><td> 1.26514856</td></tr>\n",
       "\t<tr><td> 1.01594782</td></tr>\n",
       "\t<tr><td>-0.97765812</td></tr>\n",
       "\t<tr><td> 0.01914485</td></tr>\n",
       "\t<tr><td>-0.72845738</td></tr>\n",
       "\t<tr><td> 0.01914485</td></tr>\n",
       "\t<tr><td> 0.01914485</td></tr>\n",
       "\t<tr><td>-0.97765812</td></tr>\n",
       "\t<tr><td> 0.01914485</td></tr>\n",
       "\t<tr><td>-0.97765812</td></tr>\n",
       "\t<tr><td> 1.26514856</td></tr>\n",
       "\t<tr><td>-0.97765812</td></tr>\n",
       "\t<tr><td> 0.76674708</td></tr>\n",
       "\t<tr><td>-0.97765812</td></tr>\n",
       "\t<tr><td>-0.47925664</td></tr>\n",
       "\t<tr><td>-0.97765812</td></tr>\n",
       "\t<tr><td>-0.72845738</td></tr>\n",
       "\t<tr><td> 0.01914485</td></tr>\n",
       "\t<tr><td> 0.76674708</td></tr>\n",
       "\t<tr><td> 1.76355005</td></tr>\n",
       "\t<tr><td>-0.97765812</td></tr>\n",
       "\t<tr><td>-0.23005589</td></tr>\n",
       "\t<tr><td> 0.51754634</td></tr>\n",
       "\t<tr><td>⋮</td></tr>\n",
       "\t<tr><td> 0.51754634</td></tr>\n",
       "\t<tr><td>-0.23005589</td></tr>\n",
       "\t<tr><td> 0.01914485</td></tr>\n",
       "\t<tr><td> 0.01914485</td></tr>\n",
       "\t<tr><td> 0.76674708</td></tr>\n",
       "\t<tr><td>-0.97765812</td></tr>\n",
       "\t<tr><td>-0.97765812</td></tr>\n",
       "\t<tr><td> 1.01594782</td></tr>\n",
       "\t<tr><td> 0.26834559</td></tr>\n",
       "\t<tr><td>-0.72845738</td></tr>\n",
       "\t<tr><td>-0.72845738</td></tr>\n",
       "\t<tr><td> 0.01914485</td></tr>\n",
       "\t<tr><td> 2.01275079</td></tr>\n",
       "\t<tr><td> 0.01914485</td></tr>\n",
       "\t<tr><td> 0.01914485</td></tr>\n",
       "\t<tr><td> 1.01594782</td></tr>\n",
       "\t<tr><td> 1.01594782</td></tr>\n",
       "\t<tr><td> 3.25875451</td></tr>\n",
       "\t<tr><td> 1.26514856</td></tr>\n",
       "\t<tr><td> 0.76674708</td></tr>\n",
       "\t<tr><td> 0.01914485</td></tr>\n",
       "\t<tr><td> 0.01914485</td></tr>\n",
       "\t<tr><td>-1.72526035</td></tr>\n",
       "\t<tr><td>-0.97765812</td></tr>\n",
       "\t<tr><td>-0.23005589</td></tr>\n",
       "\t<tr><td>-0.23005589</td></tr>\n",
       "\t<tr><td> 0.01914485</td></tr>\n",
       "\t<tr><td> 0.01914485</td></tr>\n",
       "\t<tr><td> 0.01914485</td></tr>\n",
       "\t<tr><td> 0.76674708</td></tr>\n",
       "</tbody>\n",
       "</table>\n"
      ],
      "text/latex": [
       "A matrix: 36527 × 1 of type dbl\n",
       "\\begin{tabular}{l}\n",
       "\t -0.23005589\\\\\n",
       "\t  0.51754634\\\\\n",
       "\t -0.72845738\\\\\n",
       "\t  1.51434931\\\\\n",
       "\t  0.76674708\\\\\n",
       "\t -0.23005589\\\\\n",
       "\t -0.47925664\\\\\n",
       "\t  1.26514856\\\\\n",
       "\t  1.01594782\\\\\n",
       "\t -0.97765812\\\\\n",
       "\t  0.01914485\\\\\n",
       "\t -0.72845738\\\\\n",
       "\t  0.01914485\\\\\n",
       "\t  0.01914485\\\\\n",
       "\t -0.97765812\\\\\n",
       "\t  0.01914485\\\\\n",
       "\t -0.97765812\\\\\n",
       "\t  1.26514856\\\\\n",
       "\t -0.97765812\\\\\n",
       "\t  0.76674708\\\\\n",
       "\t -0.97765812\\\\\n",
       "\t -0.47925664\\\\\n",
       "\t -0.97765812\\\\\n",
       "\t -0.72845738\\\\\n",
       "\t  0.01914485\\\\\n",
       "\t  0.76674708\\\\\n",
       "\t  1.76355005\\\\\n",
       "\t -0.97765812\\\\\n",
       "\t -0.23005589\\\\\n",
       "\t  0.51754634\\\\\n",
       "\t ⋮\\\\\n",
       "\t  0.51754634\\\\\n",
       "\t -0.23005589\\\\\n",
       "\t  0.01914485\\\\\n",
       "\t  0.01914485\\\\\n",
       "\t  0.76674708\\\\\n",
       "\t -0.97765812\\\\\n",
       "\t -0.97765812\\\\\n",
       "\t  1.01594782\\\\\n",
       "\t  0.26834559\\\\\n",
       "\t -0.72845738\\\\\n",
       "\t -0.72845738\\\\\n",
       "\t  0.01914485\\\\\n",
       "\t  2.01275079\\\\\n",
       "\t  0.01914485\\\\\n",
       "\t  0.01914485\\\\\n",
       "\t  1.01594782\\\\\n",
       "\t  1.01594782\\\\\n",
       "\t  3.25875451\\\\\n",
       "\t  1.26514856\\\\\n",
       "\t  0.76674708\\\\\n",
       "\t  0.01914485\\\\\n",
       "\t  0.01914485\\\\\n",
       "\t -1.72526035\\\\\n",
       "\t -0.97765812\\\\\n",
       "\t -0.23005589\\\\\n",
       "\t -0.23005589\\\\\n",
       "\t  0.01914485\\\\\n",
       "\t  0.01914485\\\\\n",
       "\t  0.01914485\\\\\n",
       "\t  0.76674708\\\\\n",
       "\\end{tabular}\n"
      ],
      "text/markdown": [
       "\n",
       "A matrix: 36527 × 1 of type dbl\n",
       "\n",
       "| -0.23005589 |\n",
       "|  0.51754634 |\n",
       "| -0.72845738 |\n",
       "|  1.51434931 |\n",
       "|  0.76674708 |\n",
       "| -0.23005589 |\n",
       "| -0.47925664 |\n",
       "|  1.26514856 |\n",
       "|  1.01594782 |\n",
       "| -0.97765812 |\n",
       "|  0.01914485 |\n",
       "| -0.72845738 |\n",
       "|  0.01914485 |\n",
       "|  0.01914485 |\n",
       "| -0.97765812 |\n",
       "|  0.01914485 |\n",
       "| -0.97765812 |\n",
       "|  1.26514856 |\n",
       "| -0.97765812 |\n",
       "|  0.76674708 |\n",
       "| -0.97765812 |\n",
       "| -0.47925664 |\n",
       "| -0.97765812 |\n",
       "| -0.72845738 |\n",
       "|  0.01914485 |\n",
       "|  0.76674708 |\n",
       "|  1.76355005 |\n",
       "| -0.97765812 |\n",
       "| -0.23005589 |\n",
       "|  0.51754634 |\n",
       "| ⋮ |\n",
       "|  0.51754634 |\n",
       "| -0.23005589 |\n",
       "|  0.01914485 |\n",
       "|  0.01914485 |\n",
       "|  0.76674708 |\n",
       "| -0.97765812 |\n",
       "| -0.97765812 |\n",
       "|  1.01594782 |\n",
       "|  0.26834559 |\n",
       "| -0.72845738 |\n",
       "| -0.72845738 |\n",
       "|  0.01914485 |\n",
       "|  2.01275079 |\n",
       "|  0.01914485 |\n",
       "|  0.01914485 |\n",
       "|  1.01594782 |\n",
       "|  1.01594782 |\n",
       "|  3.25875451 |\n",
       "|  1.26514856 |\n",
       "|  0.76674708 |\n",
       "|  0.01914485 |\n",
       "|  0.01914485 |\n",
       "| -1.72526035 |\n",
       "| -0.97765812 |\n",
       "| -0.23005589 |\n",
       "| -0.23005589 |\n",
       "|  0.01914485 |\n",
       "|  0.01914485 |\n",
       "|  0.01914485 |\n",
       "|  0.76674708 |\n",
       "\n"
      ],
      "text/plain": [
       "      [,1]       \n",
       " [1,] -0.23005589\n",
       " [2,]  0.51754634\n",
       " [3,] -0.72845738\n",
       " [4,]  1.51434931\n",
       " [5,]  0.76674708\n",
       " [6,] -0.23005589\n",
       " [7,] -0.47925664\n",
       " [8,]  1.26514856\n",
       " [9,]  1.01594782\n",
       "[10,] -0.97765812\n",
       "[11,]  0.01914485\n",
       "[12,] -0.72845738\n",
       "[13,]  0.01914485\n",
       "[14,]  0.01914485\n",
       "[15,] -0.97765812\n",
       "[16,]  0.01914485\n",
       "[17,] -0.97765812\n",
       "[18,]  1.26514856\n",
       "[19,] -0.97765812\n",
       "[20,]  0.76674708\n",
       "[21,] -0.97765812\n",
       "[22,] -0.47925664\n",
       "[23,] -0.97765812\n",
       "[24,] -0.72845738\n",
       "[25,]  0.01914485\n",
       "[26,]  0.76674708\n",
       "[27,]  1.76355005\n",
       "[28,] -0.97765812\n",
       "[29,] -0.23005589\n",
       "[30,]  0.51754634\n",
       "[31,] ⋮          \n",
       "[32,]  0.51754634\n",
       "[33,] -0.23005589\n",
       "[34,]  0.01914485\n",
       "[35,]  0.01914485\n",
       "[36,]  0.76674708\n",
       "[37,] -0.97765812\n",
       "[38,] -0.97765812\n",
       "[39,]  1.01594782\n",
       "[40,]  0.26834559\n",
       "[41,] -0.72845738\n",
       "[42,] -0.72845738\n",
       "[43,]  0.01914485\n",
       "[44,]  2.01275079\n",
       "[45,]  0.01914485\n",
       "[46,]  0.01914485\n",
       "[47,]  1.01594782\n",
       "[48,]  1.01594782\n",
       "[49,]  3.25875451\n",
       "[50,]  1.26514856\n",
       "[51,]  0.76674708\n",
       "[52,]  0.01914485\n",
       "[53,]  0.01914485\n",
       "[54,] -1.72526035\n",
       "[55,] -0.97765812\n",
       "[56,] -0.23005589\n",
       "[57,] -0.23005589\n",
       "[58,]  0.01914485\n",
       "[59,]  0.01914485\n",
       "[60,]  0.01914485\n",
       "[61,]  0.76674708"
      ]
     },
     "metadata": {},
     "output_type": "display_data"
    }
   ],
   "source": []
  },
  {
   "cell_type": "code",
   "execution_count": null,
   "metadata": {},
   "outputs": [],
   "source": []
  }
 ],
 "metadata": {
  "kernelspec": {
   "display_name": "R with Stan",
   "language": "R",
   "name": "ir"
  },
  "language_info": {
   "codemirror_mode": "r",
   "file_extension": ".r",
   "mimetype": "text/x-r-source",
   "name": "R",
   "pygments_lexer": "r",
   "version": "4.2.2"
  }
 },
 "nbformat": 4,
 "nbformat_minor": 2
}
